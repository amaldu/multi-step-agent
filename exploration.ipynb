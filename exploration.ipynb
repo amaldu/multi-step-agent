{
 "cells": [
  {
   "cell_type": "markdown",
   "id": "94bd79f6",
   "metadata": {},
   "source": [
    "# Overview of the GAIA dataset"
   ]
  },
  {
   "cell_type": "code",
   "execution_count": 2,
   "id": "773d3352",
   "metadata": {},
   "outputs": [
    {
     "data": {
      "text/plain": [
       "{'task_id': 'c61d22de-5f6c-4958-a7f6-5e9707bd3466',\n",
       " 'Question': 'A paper about AI regulation that was originally submitted to arXiv.org in June 2022 shows a figure with three axes, where each axis has a label word at both ends. Which of these words is used to describe a type of society in a Physics and Society article submitted to arXiv.org on August 11, 2016?',\n",
       " 'Level': 2,\n",
       " 'Final answer': 'egalitarian',\n",
       " 'file_name': '',\n",
       " 'Annotator Metadata': {'Steps': '1. Go to arxiv.org and navigate to the Advanced Search page.\\n2. Enter \"AI regulation\" in the search box and select \"All fields\" from the dropdown.\\n3. Enter 2022-06-01 and 2022-07-01 into the date inputs, select \"Submission date (original)\", and submit the search.\\n4. Go through the search results to find the article that has a figure with three axes and labels on each end of the axes, titled \"Fairness in Agreement With European Values: An Interdisciplinary Perspective on AI Regulation\".\\n5. Note the six words used as labels: deontological, egalitarian, localized, standardized, utilitarian, and consequential.\\n6. Go back to arxiv.org\\n7. Find \"Physics and Society\" and go to the page for the \"Physics and Society\" category.\\n8. Note that the tag for this category is \"physics.soc-ph\".\\n9. Go to the Advanced Search page.\\n10. Enter \"physics.soc-ph\" in the search box and select \"All fields\" from the dropdown.\\n11. Enter 2016-08-11 and 2016-08-12 into the date inputs, select \"Submission date (original)\", and submit the search.\\n12. Search for instances of the six words in the results to find the paper titled \"Phase transition from egalitarian to hierarchical societies driven by competition between cognitive and social constraints\", indicating that \"egalitarian\" is the correct answer.',\n",
       "  'Number of steps': '12',\n",
       "  'How long did this take?': '8 minutes',\n",
       "  'Tools': '1. Web browser\\n2. Image recognition tools (to identify and parse a figure with three axes)',\n",
       "  'Number of tools': '2'}}"
      ]
     },
     "execution_count": 2,
     "metadata": {},
     "output_type": "execute_result"
    }
   ],
   "source": [
    "\n",
    "import json\n",
    "# Load the metadata.jsonl file\n",
    "with open('metadata.jsonl', 'r') as jsonl_file:\n",
    "    json_list = list(jsonl_file)\n",
    "\n",
    "json_QA = []\n",
    "for json_str in json_list:\n",
    "    json_data = json.loads(json_str)\n",
    "    json_QA.append(json_data)\n",
    "    \n",
    "\n",
    "json_QA[0]\n",
    "    "
   ]
  },
  {
   "cell_type": "code",
   "execution_count": 2,
   "id": "be320045",
   "metadata": {},
   "outputs": [
    {
     "name": "stdout",
     "output_type": "stream",
     "text": [
      "==================================================\n",
      "Task ID: 2b3ef98c-cc05-450b-a719-711aee40ac65\n",
      "Question: Could you help me out with this assignment? Our professor sprung it on us at the end of class Friday, and I'm still trying to figure it out. The question he asked us was about an anagram. I've attached an audio recording of the question that he asked, so if you could please take a listen and give me the answer, I'd really appreciate the help. Please limit your response to the anagram text that could be generated from the original line which fulfills the professor's request, without any other commentary. Also, please don't include any punctuation in your response.\n",
      "Level: 2\n",
      "Final Answer: To be or not to be that is the question whether tis nobler in the mind to suffer the slings and arrows of outrageous fortune\n",
      "Annotator Metadata: \n",
      "  ├── Steps: \n",
      "  │      ├── Step 1: Load the audio file my user submitted with the query\n",
      "  │      ├── Step 2: Using speech-to-text tools, convert the audio to plain text, and store the text for evaluation:\n",
      "  │      ├── \n",
      "  │      ├── \"Okay guys before we call it for the week I've got one little bonus assignment. The following quotation is actually an anagram of one of the bard's most well known lines. I'd like you all to think about it and anyone who can provide the original line will get an automatic A on next week's quiz. Here's the anagram. In one of the bard's best thought of tragedies our insistent hero Hamlet queries on two fronts about how life turns rotten.\"\n",
      "  │      ├── \n",
      "  │      ├── Step 3: Evaluate the transcribed text for relevant information:\n",
      "  │      ├── The transcribed text references \"the bard\" twice\n",
      "  │      ├── The text contains the anagram to solve: \"In one of the bard's best thought of tragedies our insistent hero Hamlet queries on two fronts about how life turns rotten\"\n",
      "  │      ├── The decoded text resolves as a well-known line of \"the bard\"\n",
      "  │      ├── \n",
      "  │      ├── Step 4: Using a web browser, access a search engine and conduct a search, \"who is the bard\"\n",
      "  │      ├── Step 5: Navigate to the first search result, https://www.vocabulary.com/dictionary/bard\n",
      "  │      ├── Step 6: Evaluate the page content, noting that the page identifies William Shakespeare as \"The Bard\"\n",
      "  │      ├── Step 7: Navigate to a search engine and conduct a search, \"William Shakespeare, In one of the bard's best thought of tragedies our insistent hero Hamlet queries on two fronts about how life turns rotten\"\n",
      "  │      ├── Step 8: Navigate to the first search result, https://www.chem.ucla.edu/~ltfang/humors/anagram.html\n",
      "  │      ├── Step 9: Evaluate the page content, noting that the page identifies the anagram of \"In one of the bard's best thought of tragedies our insistent hero Hamlet queries on two fronts about how life turns rotten\" as \"To be or not to be: that is the question, whether tis nobler in the mind to suffer the slings and arrows of outrageous fortune\"\n",
      "  │      ├── Step 10: Compare the information provided by the website resource to the original text, to determine if the original text and the candidate solution share the same letters. As this is the case, store this anagram as a candidate solution.\n",
      "  │      ├── Step 11: Navigate to a search engine and conduct a search, \"William Shakespeare, To be or not to be: that is the question, whether tis nobler in the mind to suffer the slings and arrows of outrageous fortune\"\n",
      "  │      ├── Step 12: Navigate to the first search result, https://poets.org/poem/hamlet-act-iii-scene-i-be-or-not-be\n",
      "  │      ├── Step 13: Evaluate the page content, learning that the phrase \"To be or not to be: that is the question, whether tis nobler in the mind to suffer the slings and arrows of outrageous fortune\" is a line from William Shakespeare's play Hamlet, which corresponds with both the clue provided by the professor in the initial text and the clue provided in the anagrammed text.\n",
      "  │      ├── Step 14: Confirming the accuracy of the surfaced result, provide the correct response to my user, formatted as requested, \"To be or not to be that is the question whether tis nobler in the mind to suffer the slings and arrows of outrageous fortune\"\n",
      "  ├── Number of steps: 14\n",
      "  ├── How long did this take?: 5 minutes\n",
      "  ├── Tools:\n",
      "  │      ├── 1. A web browser\n",
      "  │      ├── 2. A search engine\n",
      "  │      ├── 3. A speech-to-text tool\n",
      "  └── Number of tools: 3\n",
      "==================================================\n"
     ]
    }
   ],
   "source": [
    "\n",
    "import random\n",
    "# random.seed(42)\n",
    "random_samples = random.sample(json_QA, 1)\n",
    "for sample in random_samples:\n",
    "    print(\"=\" * 50)\n",
    "    print(f\"Task ID: {sample['task_id']}\")\n",
    "    print(f\"Question: {sample['Question']}\")\n",
    "    print(f\"Level: {sample['Level']}\")\n",
    "    print(f\"Final Answer: {sample['Final answer']}\")\n",
    "    print(f\"Annotator Metadata: \")\n",
    "    print(f\"  ├── Steps: \")\n",
    "    for step in sample['Annotator Metadata']['Steps'].split('\\n'):\n",
    "        print(f\"  │      ├── {step}\")\n",
    "    print(f\"  ├── Number of steps: {sample['Annotator Metadata']['Number of steps']}\")\n",
    "    print(f\"  ├── How long did this take?: {sample['Annotator Metadata']['How long did this take?']}\")\n",
    "    print(f\"  ├── Tools:\")\n",
    "    for tool in sample['Annotator Metadata']['Tools'].split('\\n'):\n",
    "        print(f\"  │      ├── {tool}\")\n",
    "    print(f\"  └── Number of tools: {sample['Annotator Metadata']['Number of tools']}\")\n",
    "print(\"=\" * 50)"
   ]
  },
  {
   "cell_type": "code",
   "execution_count": 1,
   "id": "64c5ca54",
   "metadata": {},
   "outputs": [
    {
     "ename": "NameError",
     "evalue": "name 'json_QA' is not defined",
     "output_type": "error",
     "traceback": [
      "\u001b[31m---------------------------------------------------------------------------\u001b[39m",
      "\u001b[31mNameError\u001b[39m                                 Traceback (most recent call last)",
      "\u001b[36mCell\u001b[39m\u001b[36m \u001b[39m\u001b[32mIn[1]\u001b[39m\u001b[32m, line 1\u001b[39m\n\u001b[32m----> \u001b[39m\u001b[32m1\u001b[39m \u001b[43mjson_QA\u001b[49m\n",
      "\u001b[31mNameError\u001b[39m: name 'json_QA' is not defined"
     ]
    }
   ],
   "source": [
    "json_QA"
   ]
  },
  {
   "cell_type": "markdown",
   "id": "d4ddf21d",
   "metadata": {},
   "source": []
  }
 ],
 "metadata": {
  "kernelspec": {
   "display_name": "agentsvenv",
   "language": "python",
   "name": "python3"
  },
  "language_info": {
   "codemirror_mode": {
    "name": "ipython",
    "version": 3
   },
   "file_extension": ".py",
   "mimetype": "text/x-python",
   "name": "python",
   "nbconvert_exporter": "python",
   "pygments_lexer": "ipython3",
   "version": "3.11.0rc1"
  }
 },
 "nbformat": 4,
 "nbformat_minor": 5
}
