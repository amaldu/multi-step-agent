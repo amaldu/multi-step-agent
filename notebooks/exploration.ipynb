{
 "cells": [
  {
   "cell_type": "markdown",
   "id": "94bd79f6",
   "metadata": {},
   "source": [
    "# Overview of the GAIA dataset"
   ]
  },
  {
   "cell_type": "code",
   "execution_count": 10,
   "id": "773d3352",
   "metadata": {},
   "outputs": [
    {
     "data": {
      "text/plain": [
       "['{\"task_id\": \"c61d22de-5f6c-4958-a7f6-5e9707bd3466\", \"Question\": \"A paper about AI regulation that was originally submitted to arXiv.org in June 2022 shows a figure with three axes, where each axis has a label word at both ends. Which of these words is used to describe a type of society in a Physics and Society article submitted to arXiv.org on August 11, 2016?\", \"Level\": 2, \"Final answer\": \"egalitarian\", \"file_name\": \"\", \"Annotator Metadata\": {\"Steps\": \"1. Go to arxiv.org and navigate to the Advanced Search page.\\\\n2. Enter \\\\\"AI regulation\\\\\" in the search box and select \\\\\"All fields\\\\\" from the dropdown.\\\\n3. Enter 2022-06-01 and 2022-07-01 into the date inputs, select \\\\\"Submission date (original)\\\\\", and submit the search.\\\\n4. Go through the search results to find the article that has a figure with three axes and labels on each end of the axes, titled \\\\\"Fairness in Agreement With European Values: An Interdisciplinary Perspective on AI Regulation\\\\\".\\\\n5. Note the six words used as labels: deontological, egalitarian, localized, standardized, utilitarian, and consequential.\\\\n6. Go back to arxiv.org\\\\n7. Find \\\\\"Physics and Society\\\\\" and go to the page for the \\\\\"Physics and Society\\\\\" category.\\\\n8. Note that the tag for this category is \\\\\"physics.soc-ph\\\\\".\\\\n9. Go to the Advanced Search page.\\\\n10. Enter \\\\\"physics.soc-ph\\\\\" in the search box and select \\\\\"All fields\\\\\" from the dropdown.\\\\n11. Enter 2016-08-11 and 2016-08-12 into the date inputs, select \\\\\"Submission date (original)\\\\\", and submit the search.\\\\n12. Search for instances of the six words in the results to find the paper titled \\\\\"Phase transition from egalitarian to hierarchical societies driven by competition between cognitive and social constraints\\\\\", indicating that \\\\\"egalitarian\\\\\" is the correct answer.\", \"Number of steps\": \"12\", \"How long did this take?\": \"8 minutes\", \"Tools\": \"1. Web browser\\\\n2. Image recognition tools (to identify and parse a figure with three axes)\", \"Number of tools\": \"2\"}}\\n',\n",
       " '{\"task_id\": \"17b5a6a3-bc87-42e8-b0fb-6ab0781ef2cc\", \"Question\": \"I\\\\u2019m researching species that became invasive after people who kept them as pets released them. There\\\\u2019s a certain species of fish that was popularized as a pet by being the main character of the movie Finding Nemo. According to the USGS, where was this fish found as a nonnative species, before the year 2020? I need the answer formatted as the five-digit zip codes of the places the species was found, separated by commas if there is more than one place.\", \"Level\": 2, \"Final answer\": \"34689\", \"file_name\": \"\", \"Annotator Metadata\": {\"Steps\": \"1. Search the web for \\\\u201cfinding nemo main character\\\\u201d.\\\\n2. Note the results, which state that the main character is a clownfish.\\\\n3. Search the web for \\\\u201cusgs nonnative species database\\\\u201d.\\\\n4. Click result for the Nonindigenous Aquatic Species site.\\\\n5. Click \\\\u201cMarine Fishes\\\\u201d.\\\\n6. Click \\\\u201cSpecies List of Nonindigenous Marine Fish\\\\u201d.\\\\n7. Scroll through the list until I find the clown anenomefish, and click \\\\u201cCollection info\\\\u201d.\\\\n8. Note the place that a clown anenomefish was found, in Fred Howard Park at the Gulf of Mexico.\\\\n9. Search the web for \\\\u201cfred howard park florida zip code\\\\u201d.\\\\n10. Note the zip code, 34689. Since only one clownfish was found before the year 2020, this is the answer.\", \"Number of steps\": \"10\", \"How long did this take?\": \"5 minutes\", \"Tools\": \"1. Search engine\\\\n2. Web browser\", \"Number of tools\": \"2\"}}\\n',\n",
       " '{\"task_id\": \"04a04a9b-226c-43fd-b319-d5e89743676f\", \"Question\": \"If we assume all articles published by Nature in 2020 (articles, only, not book reviews/columns, etc) relied on statistical significance to justify their findings and they on average came to a p-value of 0.04, how many papers would be incorrect as to their claims of statistical significance? Round the value up to the next integer.\", \"Level\": 2, \"Final answer\": \"41\", \"file_name\": \"\", \"Annotator Metadata\": {\"Steps\": \"1. Find how many articles were published in Nature in 2020 by Googling \\\\\"articles submitted to nature 2020\\\\\"\\\\n2. Click through to Nature\\'s archive for 2020 and filter the results to only provide articles, not other types of publications: 1002\\\\n3. Find 4% of 1002 and round up: 40.08 > 41\", \"Number of steps\": \"3\", \"How long did this take?\": \"5 minutes\", \"Tools\": \"1. search engine\\\\n2. calculator\", \"Number of tools\": \"2\"}}\\n']"
      ]
     },
     "execution_count": 10,
     "metadata": {},
     "output_type": "execute_result"
    }
   ],
   "source": [
    "#jsonl or JSON lines is a text file where every row is an independent JSON object\n",
    "\n",
    "import json\n",
    "# Load the metadata.jsonl file\n",
    "with open('../data/metadata.jsonl', 'r') as jsonl_file:\n",
    "    json_list = list(jsonl_file)\n",
    "\n",
    "\n",
    "json_list[0:3]"
   ]
  },
  {
   "cell_type": "markdown",
   "id": "5bb90475",
   "metadata": {},
   "source": [
    "json_list has this format\n",
    "\n",
    "[\n",
    "    \n",
    "    '{\"id\": 1, \"name\": \"Alice\"}',\n",
    "\n",
    "    '{\"id\": 2, \"name\": \"Bob\"}'\n",
    "]\n",
    "\n",
    "I want to convert it into json_QA\n",
    "\n",
    "[\n",
    "\n",
    "    {\"id\": 1, \"name\": \"Alice\"},\n",
    "\n",
    "    {\"id\": 2, \"name\": \"Bob\"}\n",
    "]"
   ]
  },
  {
   "cell_type": "code",
   "execution_count": 13,
   "id": "a89971ae",
   "metadata": {},
   "outputs": [
    {
     "data": {
      "text/plain": [
       "{'task_id': 'c61d22de-5f6c-4958-a7f6-5e9707bd3466',\n",
       " 'Question': 'A paper about AI regulation that was originally submitted to arXiv.org in June 2022 shows a figure with three axes, where each axis has a label word at both ends. Which of these words is used to describe a type of society in a Physics and Society article submitted to arXiv.org on August 11, 2016?',\n",
       " 'Level': 2,\n",
       " 'Final answer': 'egalitarian',\n",
       " 'file_name': '',\n",
       " 'Annotator Metadata': {'Steps': '1. Go to arxiv.org and navigate to the Advanced Search page.\\n2. Enter \"AI regulation\" in the search box and select \"All fields\" from the dropdown.\\n3. Enter 2022-06-01 and 2022-07-01 into the date inputs, select \"Submission date (original)\", and submit the search.\\n4. Go through the search results to find the article that has a figure with three axes and labels on each end of the axes, titled \"Fairness in Agreement With European Values: An Interdisciplinary Perspective on AI Regulation\".\\n5. Note the six words used as labels: deontological, egalitarian, localized, standardized, utilitarian, and consequential.\\n6. Go back to arxiv.org\\n7. Find \"Physics and Society\" and go to the page for the \"Physics and Society\" category.\\n8. Note that the tag for this category is \"physics.soc-ph\".\\n9. Go to the Advanced Search page.\\n10. Enter \"physics.soc-ph\" in the search box and select \"All fields\" from the dropdown.\\n11. Enter 2016-08-11 and 2016-08-12 into the date inputs, select \"Submission date (original)\", and submit the search.\\n12. Search for instances of the six words in the results to find the paper titled \"Phase transition from egalitarian to hierarchical societies driven by competition between cognitive and social constraints\", indicating that \"egalitarian\" is the correct answer.',\n",
       "  'Number of steps': '12',\n",
       "  'How long did this take?': '8 minutes',\n",
       "  'Tools': '1. Web browser\\n2. Image recognition tools (to identify and parse a figure with three axes)',\n",
       "  'Number of tools': '2'}}"
      ]
     },
     "execution_count": 13,
     "metadata": {},
     "output_type": "execute_result"
    }
   ],
   "source": [
    "# Convert the list of strings in JSON format into a list of dictionaries \n",
    " \n",
    "json_QA = []\n",
    "for json_str in json_list:\n",
    "    json_data = json.loads(json_str)\n",
    "    json_QA.append(json_data)\n",
    "\n",
    "json_QA[0]"
   ]
  },
  {
   "cell_type": "code",
   "execution_count": 14,
   "id": "be320045",
   "metadata": {},
   "outputs": [
    {
     "name": "stdout",
     "output_type": "stream",
     "text": [
      "==================================================\n",
      "Task ID: 08f3a05f-5947-4089-a4c4-d4bcfaa6b7a0\n",
      "Question: Given $x_0 = -5$ and $f(x) = x^3 + 4x^2 - 3x + 8$, what is the smallest $n$ where using Newton's Method $n = n+1$ after rounding to four decimal places?\n",
      "Level: 2\n",
      "Final Answer: 2\n",
      "Annotator Metadata: \n",
      "  ├── Steps: \n",
      "  │      ├── 1. Verify Netwon's method as x_(n+1) = x_n - f(x_n)/f'(x_n) by searching\n",
      "  │      ├── 2. Calculate the derivative: f'(x) = 3x^2 + 8x - 3\n",
      "  │      ├── 3. Find x_1 using the given x_0 value: x_1 = -5 - ((-5)^3 + 4(-5)^2 - 3(-5) + 8)/(3(-5)^2 + 8(-5) - 3) = -79/16 ≈ -4.9375\n",
      "  │      ├── 4. Iterate: x_2 = -79/16 - ((-79/16)^3 + 4(-79/16)^2 - 3(-79/16) + 8)/(3(-79/16)^2 + 8(-79/16) - 3) = -309711/62744 ≈ -4.9361\n",
      "  │      ├── 5. They are not the same, so iterate: x_3 = -309711/62744 - ((-309711/62744)^3 + 4(-309711/62744)^2 - 3(-309711/62744) + 8)/(3(-309711/62744)^2 + 8(-309711/62744) - 3) = -18658881319456319/3780082116675876 ≈ -4.9361\n",
      "  │      ├── 6. They are the same, so we stop and know n = 2 is the smallest value where this occurs.\n",
      "  ├── Number of steps: 6\n",
      "  ├── How long did this take?: 15 minutes\n",
      "  ├── Tools:\n",
      "  │      ├── 1. computer algebra system\n",
      "  └── Number of tools: 1\n",
      "==================================================\n"
     ]
    }
   ],
   "source": [
    "# Check all the information inside every dictionary\n",
    "\n",
    "import random\n",
    "\n",
    "random_samples = random.sample(json_QA, 1)\n",
    "for sample in random_samples:\n",
    "    print(\"=\" * 50)\n",
    "    print(f\"Task ID: {sample['task_id']}\")\n",
    "    print(f\"Question: {sample['Question']}\")\n",
    "    print(f\"Level: {sample['Level']}\")\n",
    "    print(f\"Final Answer: {sample['Final answer']}\")\n",
    "    print(f\"Annotator Metadata: \")\n",
    "    print(f\"  ├── Steps: \")\n",
    "    for step in sample['Annotator Metadata']['Steps'].split('\\n'):\n",
    "        print(f\"  │      ├── {step}\")\n",
    "    print(f\"  ├── Number of steps: {sample['Annotator Metadata']['Number of steps']}\")\n",
    "    print(f\"  ├── How long did this take?: {sample['Annotator Metadata']['How long did this take?']}\")\n",
    "    print(f\"  ├── Tools:\")\n",
    "    for tool in sample['Annotator Metadata']['Tools'].split('\\n'):\n",
    "        print(f\"  │      ├── {tool}\")\n",
    "    print(f\"  └── Number of tools: {sample['Annotator Metadata']['Number of tools']}\")\n",
    "print(\"=\" * 50)"
   ]
  },
  {
   "cell_type": "markdown",
   "id": "5b2b779d",
   "metadata": {},
   "source": [
    "From this information we need the uuid and the Question. From the question I will create the embeddings to store them into our supabase vector database."
   ]
  },
  {
   "cell_type": "code",
   "execution_count": 4,
   "id": "b155cdcf",
   "metadata": {},
   "outputs": [
    {
     "data": {
      "text/html": [
       "<div>\n",
       "<style scoped>\n",
       "    .dataframe tbody tr th:only-of-type {\n",
       "        vertical-align: middle;\n",
       "    }\n",
       "\n",
       "    .dataframe tbody tr th {\n",
       "        vertical-align: top;\n",
       "    }\n",
       "\n",
       "    .dataframe thead th {\n",
       "        text-align: right;\n",
       "    }\n",
       "</style>\n",
       "<table border=\"1\" class=\"dataframe\">\n",
       "  <thead>\n",
       "    <tr style=\"text-align: right;\">\n",
       "      <th></th>\n",
       "      <th>content</th>\n",
       "      <th>metadata</th>\n",
       "      <th>embedding</th>\n",
       "    </tr>\n",
       "  </thead>\n",
       "  <tbody>\n",
       "    <tr>\n",
       "      <th>0</th>\n",
       "      <td>Question : A paper about AI regulation that wa...</td>\n",
       "      <td>{'source': 'c61d22de-5f6c-4958-a7f6-5e9707bd34...</td>\n",
       "      <td>[-0.0026346156373620033, 0.02306007593870163, ...</td>\n",
       "    </tr>\n",
       "    <tr>\n",
       "      <th>1</th>\n",
       "      <td>Question : I’m researching species that became...</td>\n",
       "      <td>{'source': '17b5a6a3-bc87-42e8-b0fb-6ab0781ef2...</td>\n",
       "      <td>[-0.0037757030222564936, 0.03832027688622475, ...</td>\n",
       "    </tr>\n",
       "    <tr>\n",
       "      <th>2</th>\n",
       "      <td>Question : If we assume all articles published...</td>\n",
       "      <td>{'source': '04a04a9b-226c-43fd-b319-d5e8974367...</td>\n",
       "      <td>[0.020039480179548264, 0.023754185065627098, -...</td>\n",
       "    </tr>\n",
       "    <tr>\n",
       "      <th>3</th>\n",
       "      <td>Question : In Unlambda, what exact charcter or...</td>\n",
       "      <td>{'source': '14569e28-c88c-43e4-8c32-097d35b9a6...</td>\n",
       "      <td>[0.07064956426620483, -0.02905994839966297, 0....</td>\n",
       "    </tr>\n",
       "    <tr>\n",
       "      <th>4</th>\n",
       "      <td>Question : If Eliud Kipchoge could maintain hi...</td>\n",
       "      <td>{'source': 'e1fc63a2-da7a-432f-be78-7c4a955987...</td>\n",
       "      <td>[0.022228224202990532, -0.012232569046318531, ...</td>\n",
       "    </tr>\n",
       "    <tr>\n",
       "      <th>...</th>\n",
       "      <td>...</td>\n",
       "      <td>...</td>\n",
       "      <td>...</td>\n",
       "    </tr>\n",
       "    <tr>\n",
       "      <th>160</th>\n",
       "      <td>Question : In NASA's Astronomy Picture of the ...</td>\n",
       "      <td>{'source': '0bdb7c40-671d-4ad1-9ce3-986b159c0d...</td>\n",
       "      <td>[0.051419615745544434, -0.014581809751689434, ...</td>\n",
       "    </tr>\n",
       "    <tr>\n",
       "      <th>161</th>\n",
       "      <td>Question : In the film Goldfinger, what color ...</td>\n",
       "      <td>{'source': '08c0b6e9-1b43-4c2e-ae55-4e3fce2c27...</td>\n",
       "      <td>[0.05897268280386925, -0.026528865098953247, 0...</td>\n",
       "    </tr>\n",
       "    <tr>\n",
       "      <th>162</th>\n",
       "      <td>Question : As of May 2023, how many stops are ...</td>\n",
       "      <td>{'source': 'db4fd70a-2d37-40ea-873f-9433dc5e30...</td>\n",
       "      <td>[-0.02830876223742962, 0.030977396294474602, -...</td>\n",
       "    </tr>\n",
       "    <tr>\n",
       "      <th>163</th>\n",
       "      <td>Question : In the 2015 Metropolitan Museum of ...</td>\n",
       "      <td>{'source': '853c8244-429e-46ca-89f2-addf40dfb2...</td>\n",
       "      <td>[0.04488062486052513, 0.05813043937087059, -0....</td>\n",
       "    </tr>\n",
       "    <tr>\n",
       "      <th>164</th>\n",
       "      <td>Question : At the two-minute mark in the YouTu...</td>\n",
       "      <td>{'source': '7a4a336d-dcfa-45a0-b014-824c7619e8...</td>\n",
       "      <td>[-0.01795075088739395, -0.01803370751440525, -...</td>\n",
       "    </tr>\n",
       "  </tbody>\n",
       "</table>\n",
       "<p>165 rows × 3 columns</p>\n",
       "</div>"
      ],
      "text/plain": [
       "                                               content  \\\n",
       "0    Question : A paper about AI regulation that wa...   \n",
       "1    Question : I’m researching species that became...   \n",
       "2    Question : If we assume all articles published...   \n",
       "3    Question : In Unlambda, what exact charcter or...   \n",
       "4    Question : If Eliud Kipchoge could maintain hi...   \n",
       "..                                                 ...   \n",
       "160  Question : In NASA's Astronomy Picture of the ...   \n",
       "161  Question : In the film Goldfinger, what color ...   \n",
       "162  Question : As of May 2023, how many stops are ...   \n",
       "163  Question : In the 2015 Metropolitan Museum of ...   \n",
       "164  Question : At the two-minute mark in the YouTu...   \n",
       "\n",
       "                                              metadata  \\\n",
       "0    {'source': 'c61d22de-5f6c-4958-a7f6-5e9707bd34...   \n",
       "1    {'source': '17b5a6a3-bc87-42e8-b0fb-6ab0781ef2...   \n",
       "2    {'source': '04a04a9b-226c-43fd-b319-d5e8974367...   \n",
       "3    {'source': '14569e28-c88c-43e4-8c32-097d35b9a6...   \n",
       "4    {'source': 'e1fc63a2-da7a-432f-be78-7c4a955987...   \n",
       "..                                                 ...   \n",
       "160  {'source': '0bdb7c40-671d-4ad1-9ce3-986b159c0d...   \n",
       "161  {'source': '08c0b6e9-1b43-4c2e-ae55-4e3fce2c27...   \n",
       "162  {'source': 'db4fd70a-2d37-40ea-873f-9433dc5e30...   \n",
       "163  {'source': '853c8244-429e-46ca-89f2-addf40dfb2...   \n",
       "164  {'source': '7a4a336d-dcfa-45a0-b014-824c7619e8...   \n",
       "\n",
       "                                             embedding  \n",
       "0    [-0.0026346156373620033, 0.02306007593870163, ...  \n",
       "1    [-0.0037757030222564936, 0.03832027688622475, ...  \n",
       "2    [0.020039480179548264, 0.023754185065627098, -...  \n",
       "3    [0.07064956426620483, -0.02905994839966297, 0....  \n",
       "4    [0.022228224202990532, -0.012232569046318531, ...  \n",
       "..                                                 ...  \n",
       "160  [0.051419615745544434, -0.014581809751689434, ...  \n",
       "161  [0.05897268280386925, -0.026528865098953247, 0...  \n",
       "162  [-0.02830876223742962, 0.030977396294474602, -...  \n",
       "163  [0.04488062486052513, 0.05813043937087059, -0....  \n",
       "164  [-0.01795075088739395, -0.01803370751440525, -...  \n",
       "\n",
       "[165 rows x 3 columns]"
      ]
     },
     "execution_count": 4,
     "metadata": {},
     "output_type": "execute_result"
    }
   ],
   "source": [
    "#TODO finish the optional part\n",
    "\n",
    "import pandas as pd\n",
    "\n",
    "df = pd.read_csv(\"../data/supabase_docs.csv\")\n",
    "df"
   ]
  },
  {
   "cell_type": "code",
   "execution_count": null,
   "id": "d60296ee",
   "metadata": {},
   "outputs": [],
   "source": []
  }
 ],
 "metadata": {
  "kernelspec": {
   "display_name": "agentsvenv",
   "language": "python",
   "name": "python3"
  },
  "language_info": {
   "codemirror_mode": {
    "name": "ipython",
    "version": 3
   },
   "file_extension": ".py",
   "mimetype": "text/x-python",
   "name": "python",
   "nbconvert_exporter": "python",
   "pygments_lexer": "ipython3",
   "version": "3.10.12"
  }
 },
 "nbformat": 4,
 "nbformat_minor": 5
}
