{
 "cells": [
  {
   "cell_type": "markdown",
   "id": "9c7228b3",
   "metadata": {},
   "source": [
    "In this notebook I perform a simple analysis of the question formats and structures to have an idea of the type of tools that the Agent should be using to solve them"
   ]
  },
  {
   "cell_type": "markdown",
   "id": "61b85022",
   "metadata": {},
   "source": [
    "# Import questions from HF API"
   ]
  },
  {
   "cell_type": "code",
   "execution_count": 5,
   "id": "c7ce4e1d",
   "metadata": {},
   "outputs": [],
   "source": [
    "import json\n",
    "import requests"
   ]
  },
  {
   "cell_type": "code",
   "execution_count": 6,
   "id": "32087aae",
   "metadata": {},
   "outputs": [],
   "source": [
    "DEFAULT_API_URL = \"https://agents-course-unit4-scoring.hf.space\"\n",
    "\n",
    "api_url = DEFAULT_API_URL\n",
    "questions_url = f\"{api_url}/questions\"\n",
    "submit_url = f\"{api_url}/submit\""
   ]
  },
  {
   "cell_type": "code",
   "execution_count": 7,
   "id": "8beffd52",
   "metadata": {},
   "outputs": [],
   "source": [
    "# Fetch Questions\n",
    "def fetch_questions():\n",
    "\n",
    "    \"\"\"Fetch the questions for the evaluation from the API to see the format\n",
    "    \n",
    "    Returns a tuple of two components (error_message, question_data)\"\"\"\n",
    "    print(f\"Fetching questions from: {questions_url}\")\n",
    "    try:\n",
    "        response = requests.get(questions_url, timeout=15)\n",
    "        response.raise_for_status()\n",
    "        questions_data = response.json()\n",
    "        if not questions_data:\n",
    "             print(\"Fetched questions list is empty.\")\n",
    "             return \"Fetched questions list is empty or invalid format.\", None\n",
    "        print(f\"Fetched {len(questions_data)} questions.\")\n",
    "        return questions_data\n",
    "    except requests.exceptions.RequestException as e:\n",
    "        print(f\"Error fetching questions: {e}\")\n",
    "        return f\"Error fetching questions: {e}\", None\n",
    "    except requests.exceptions.JSONDecodeError as e:\n",
    "         print(f\"Error decoding JSON response from questions endpoint: {e}\")\n",
    "         print(f\"Response text: {response.text[:500]}\")\n",
    "         return f\"Error decoding server response for questions: {e}\", None\n",
    "    except Exception as e:\n",
    "        print(f\"An unexpected error occurred fetching questions: {e}\")\n",
    "        return f\"An unexpected error occurred fetching questions: {e}\", None"
   ]
  },
  {
   "cell_type": "code",
   "execution_count": 8,
   "id": "c81c9022",
   "metadata": {},
   "outputs": [
    {
     "name": "stdout",
     "output_type": "stream",
     "text": [
      "Fetching questions from: https://agents-course-unit4-scoring.hf.space/questions\n",
      "Fetched 20 questions.\n"
     ]
    }
   ],
   "source": [
    "questions = fetch_questions()"
   ]
  },
  {
   "cell_type": "code",
   "execution_count": 9,
   "id": "4d7c5ed8",
   "metadata": {},
   "outputs": [
    {
     "name": "stdout",
     "output_type": "stream",
     "text": [
      "<class 'list'>\n"
     ]
    }
   ],
   "source": [
    "print(type(questions))"
   ]
  },
  {
   "cell_type": "code",
   "execution_count": 19,
   "id": "763f2405",
   "metadata": {},
   "outputs": [
    {
     "data": {
      "text/plain": [
       "[{'task_id': '8e867cd7-cff9-4e6c-867a-ff5ddc2550be',\n",
       "  'question': 'How many studio albums were published by Mercedes Sosa between 2000 and 2009 (included)? You can use the latest 2022 version of english wikipedia.',\n",
       "  'Level': '1',\n",
       "  'file_name': ''},\n",
       " {'task_id': 'a1e91b78-d3d8-4675-bb8d-62741b4b68a6',\n",
       "  'question': 'In the video https://www.youtube.com/watch?v=L1vXCYZAYYM, what is the highest number of bird species to be on camera simultaneously?',\n",
       "  'Level': '1',\n",
       "  'file_name': ''},\n",
       " {'task_id': '2d83110e-a098-4ebb-9987-066c06fa42d0',\n",
       "  'question': '.rewsna eht sa \"tfel\" drow eht fo etisoppo eht etirw ,ecnetnes siht dnatsrednu uoy fI',\n",
       "  'Level': '1',\n",
       "  'file_name': ''},\n",
       " {'task_id': 'cca530fc-4052-43b2-b130-b30968d8aa44',\n",
       "  'question': \"Review the chess position provided in the image. It is black's turn. Provide the correct next move for black which guarantees a win. Please provide your response in algebraic notation.\",\n",
       "  'Level': '1',\n",
       "  'file_name': 'cca530fc-4052-43b2-b130-b30968d8aa44.png'}]"
      ]
     },
     "execution_count": 19,
     "metadata": {},
     "output_type": "execute_result"
    }
   ],
   "source": [
    "questions[0:4]"
   ]
  },
  {
   "cell_type": "code",
   "execution_count": 11,
   "id": "c52c5e6f",
   "metadata": {},
   "outputs": [
    {
     "name": "stdout",
     "output_type": "stream",
     "text": [
      "Level: 1\n",
      "file_name: \n",
      "question: How many studio albums were published by Mercedes Sosa between 2000 and 2009 (included)? You can use the latest 2022 version of english wikipedia.\n",
      "task_id: 8e867cd7-cff9-4e6c-867a-ff5ddc2550be\n",
      "-------------------------------------------------- \n",
      "\n",
      "Level: 1\n",
      "file_name: \n",
      "question: In the video https://www.youtube.com/watch?v=L1vXCYZAYYM, what is the highest number of bird species to be on camera simultaneously?\n",
      "task_id: a1e91b78-d3d8-4675-bb8d-62741b4b68a6\n",
      "-------------------------------------------------- \n",
      "\n",
      "Level: 1\n",
      "file_name: \n",
      "question: .rewsna eht sa \"tfel\" drow eht fo etisoppo eht etirw ,ecnetnes siht dnatsrednu uoy fI\n",
      "task_id: 2d83110e-a098-4ebb-9987-066c06fa42d0\n",
      "-------------------------------------------------- \n",
      "\n",
      "Level: 1\n",
      "file_name: cca530fc-4052-43b2-b130-b30968d8aa44.png\n",
      "question: Review the chess position provided in the image. It is black's turn. Provide the correct next move for black which guarantees a win. Please provide your response in algebraic notation.\n",
      "task_id: cca530fc-4052-43b2-b130-b30968d8aa44\n",
      "-------------------------------------------------- \n",
      "\n",
      "Level: 1\n",
      "file_name: \n",
      "question: Who nominated the only Featured Article on English Wikipedia about a dinosaur that was promoted in November 2016?\n",
      "task_id: 4fc2f1ae-8625-45b5-ab34-ad4433bc21f8\n",
      "-------------------------------------------------- \n",
      "\n",
      "Level: 1\n",
      "file_name: \n",
      "question: Given this table defining * on the set S = {a, b, c, d, e}\n",
      "\n",
      "|*|a|b|c|d|e|\n",
      "|---|---|---|---|---|---|\n",
      "|a|a|b|c|b|d|\n",
      "|b|b|c|a|e|c|\n",
      "|c|c|a|b|b|a|\n",
      "|d|b|e|b|e|d|\n",
      "|e|d|b|a|d|c|\n",
      "\n",
      "provide the subset of S involved in any possible counter-examples that prove * is not commutative. Provide your answer as a comma separated list of the elements in the set in alphabetical order.\n",
      "task_id: 6f37996b-2ac7-44b0-8e68-6d28256631b4\n",
      "-------------------------------------------------- \n",
      "\n",
      "Level: 1\n",
      "file_name: \n",
      "question: Examine the video at https://www.youtube.com/watch?v=1htKBjuUWec.\n",
      "\n",
      "What does Teal'c say in response to the question \"Isn't that hot?\"\n",
      "task_id: 9d191bce-651d-4746-be2d-7ef8ecadb9c2\n",
      "-------------------------------------------------- \n",
      "\n",
      "Level: 1\n",
      "file_name: \n",
      "question: What is the surname of the equine veterinarian mentioned in 1.E Exercises from the chemistry materials licensed by Marisa Alviar-Agnew & Henry Agnew under the CK-12 license in LibreText's Introductory Chemistry materials as compiled 08/21/2023?\n",
      "task_id: cabe07ed-9eca-40ea-8ead-410ef5e83f91\n",
      "-------------------------------------------------- \n",
      "\n",
      "Level: 1\n",
      "file_name: \n",
      "question: I'm making a grocery list for my mom, but she's a professor of botany and she's a real stickler when it comes to categorizing things. I need to add different foods to different categories on the grocery list, but if I make a mistake, she won't buy anything inserted in the wrong category. Here's the list I have so far:\n",
      "\n",
      "milk, eggs, flour, whole bean coffee, Oreos, sweet potatoes, fresh basil, plums, green beans, rice, corn, bell pepper, whole allspice, acorns, broccoli, celery, zucchini, lettuce, peanuts\n",
      "\n",
      "I need to make headings for the fruits and vegetables. Could you please create a list of just the vegetables from my list? If you could do that, then I can figure out how to categorize the rest of the list into the appropriate categories. But remember that my mom is a real stickler, so make sure that no botanical fruits end up on the vegetable list, or she won't get them when she's at the store. Please alphabetize the list of vegetables, and place each item in a comma separated list.\n",
      "task_id: 3cef3a44-215e-4aed-8e3b-b1e3f08063b7\n",
      "-------------------------------------------------- \n",
      "\n",
      "Level: 1\n",
      "file_name: 99c9cc74-fdc8-46c6-8f8d-3ce2d3bfeea3.mp3\n",
      "question: Hi, I'm making a pie but I could use some help with my shopping list. I have everything I need for the crust, but I'm not sure about the filling. I got the recipe from my friend Aditi, but she left it as a voice memo and the speaker on my phone is buzzing so I can't quite make out what she's saying. Could you please listen to the recipe and list all of the ingredients that my friend described? I only want the ingredients for the filling, as I have everything I need to make my favorite pie crust. I've attached the recipe as Strawberry pie.mp3.\n",
      "\n",
      "In your response, please only list the ingredients, not any measurements. So if the recipe calls for \"a pinch of salt\" or \"two cups of ripe strawberries\" the ingredients on the list would be \"salt\" and \"ripe strawberries\".\n",
      "\n",
      "Please format your response as a comma separated list of ingredients. Also, please alphabetize the ingredients.\n",
      "task_id: 99c9cc74-fdc8-46c6-8f8d-3ce2d3bfeea3\n",
      "-------------------------------------------------- \n",
      "\n",
      "Level: 1\n",
      "file_name: \n",
      "question: Who did the actor who played Ray in the Polish-language version of Everybody Loves Raymond play in Magda M.? Give only the first name.\n",
      "task_id: 305ac316-eef6-4446-960a-92d80d542f82\n",
      "-------------------------------------------------- \n",
      "\n",
      "Level: 1\n",
      "file_name: f918266a-b3e0-4914-865d-4faa564f1aef.py\n",
      "question: What is the final numeric output from the attached Python code?\n",
      "task_id: f918266a-b3e0-4914-865d-4faa564f1aef\n",
      "-------------------------------------------------- \n",
      "\n",
      "Level: 1\n",
      "file_name: \n",
      "question: How many at bats did the Yankee with the most walks in the 1977 regular season have that same season?\n",
      "task_id: 3f57289b-8c60-48be-bd80-01f8099ca449\n",
      "-------------------------------------------------- \n",
      "\n",
      "Level: 1\n",
      "file_name: 1f975693-876d-457b-a649-393859e79bf3.mp3\n",
      "question: Hi, I was out sick from my classes on Friday, so I'm trying to figure out what I need to study for my Calculus mid-term next week. My friend from class sent me an audio recording of Professor Willowbrook giving out the recommended reading for the test, but my headphones are broken :(\n",
      "\n",
      "Could you please listen to the recording for me and tell me the page numbers I'm supposed to go over? I've attached a file called Homework.mp3 that has the recording. Please provide just the page numbers as a comma-delimited list. And please provide the list in ascending order.\n",
      "task_id: 1f975693-876d-457b-a649-393859e79bf3\n",
      "-------------------------------------------------- \n",
      "\n",
      "Level: 1\n",
      "file_name: \n",
      "question: On June 6, 2023, an article by Carolyn Collins Petersen was published in Universe Today. This article mentions a team that produced a paper about their observations, linked at the bottom of the article. Find this paper. Under what NASA award number was the work performed by R. G. Arendt supported by?\n",
      "task_id: 840bfca7-4f7b-481a-8794-c560c340185d\n",
      "-------------------------------------------------- \n",
      "\n",
      "Level: 1\n",
      "file_name: \n",
      "question: Where were the Vietnamese specimens described by Kuznetzov in Nedoshivina's 2010 paper eventually deposited? Just give me the city name without abbreviations.\n",
      "task_id: bda648d7-d618-4883-88f4-3466eabd860e\n",
      "-------------------------------------------------- \n",
      "\n",
      "Level: 1\n",
      "file_name: \n",
      "question: What country had the least number of athletes at the 1928 Summer Olympics? If there's a tie for a number of athletes, return the first in alphabetical order. Give the IOC country code as your answer.\n",
      "task_id: cf106601-ab4f-4af9-b045-5295fe67b37d\n",
      "-------------------------------------------------- \n",
      "\n",
      "Level: 1\n",
      "file_name: \n",
      "question: Who are the pitchers with the number before and after Taishō Tamai's number as of July 2023? Give them to me in the form Pitcher Before, Pitcher After, use their last names only, in Roman characters.\n",
      "task_id: a0c07678-e491-4bbc-8f0b-07405144218f\n",
      "-------------------------------------------------- \n",
      "\n",
      "Level: 1\n",
      "file_name: 7bd855d8-463d-4ed5-93ca-5fe35145f733.xlsx\n",
      "question: The attached Excel file contains the sales of menu items for a local fast-food chain. What were the total sales that the chain made from food (not including drinks)? Express your answer in USD with two decimal places.\n",
      "task_id: 7bd855d8-463d-4ed5-93ca-5fe35145f733\n",
      "-------------------------------------------------- \n",
      "\n",
      "Level: 1\n",
      "file_name: \n",
      "question: What is the first name of the only Malko Competition recipient from the 20th Century (after 1977) whose nationality on record is a country that no longer exists?\n",
      "task_id: 5a0c1adf-205e-4841-a666-7c3ef95def9d\n",
      "-------------------------------------------------- \n",
      "\n"
     ]
    }
   ],
   "source": [
    "for question in questions:\n",
    "    print(f\"Level: {question['Level']}\")\n",
    "    print(f\"file_name: {question['file_name']}\")\n",
    "    print(f\"question: {question['question']}\")\n",
    "    print(f\"task_id: {question['task_id']}\")\n",
    "    print(\"-\" * 50, \"\\n\")\n",
    "\n"
   ]
  },
  {
   "cell_type": "markdown",
   "id": "bb7fe0e2",
   "metadata": {},
   "source": [
    "# Questions with file attached"
   ]
  },
  {
   "cell_type": "code",
   "execution_count": 16,
   "id": "9af021f2",
   "metadata": {},
   "outputs": [
    {
     "name": "stdout",
     "output_type": "stream",
     "text": [
      "Question: Review the chess position provided in the image. It is black's turn. Provide the correct next move for black which guarantees a win. Please provide your response in algebraic notation.\n",
      "Associated file name: cca530fc-4052-43b2-b130-b30968d8aa44.png\n",
      "--------------------------------------------------\n",
      "Question: Hi, I'm making a pie but I could use some help with my shopping list. I have everything I need for the crust, but I'm not sure about the filling. I got the recipe from my friend Aditi, but she left it as a voice memo and the speaker on my phone is buzzing so I can't quite make out what she's saying. Could you please listen to the recipe and list all of the ingredients that my friend described? I only want the ingredients for the filling, as I have everything I need to make my favorite pie crust. I've attached the recipe as Strawberry pie.mp3.\n",
      "\n",
      "In your response, please only list the ingredients, not any measurements. So if the recipe calls for \"a pinch of salt\" or \"two cups of ripe strawberries\" the ingredients on the list would be \"salt\" and \"ripe strawberries\".\n",
      "\n",
      "Please format your response as a comma separated list of ingredients. Also, please alphabetize the ingredients.\n",
      "Associated file name: 99c9cc74-fdc8-46c6-8f8d-3ce2d3bfeea3.mp3\n",
      "--------------------------------------------------\n",
      "Question: What is the final numeric output from the attached Python code?\n",
      "Associated file name: f918266a-b3e0-4914-865d-4faa564f1aef.py\n",
      "--------------------------------------------------\n",
      "Question: Hi, I was out sick from my classes on Friday, so I'm trying to figure out what I need to study for my Calculus mid-term next week. My friend from class sent me an audio recording of Professor Willowbrook giving out the recommended reading for the test, but my headphones are broken :(\n",
      "\n",
      "Could you please listen to the recording for me and tell me the page numbers I'm supposed to go over? I've attached a file called Homework.mp3 that has the recording. Please provide just the page numbers as a comma-delimited list. And please provide the list in ascending order.\n",
      "Associated file name: 1f975693-876d-457b-a649-393859e79bf3.mp3\n",
      "--------------------------------------------------\n",
      "Question: The attached Excel file contains the sales of menu items for a local fast-food chain. What were the total sales that the chain made from food (not including drinks)? Express your answer in USD with two decimal places.\n",
      "Associated file name: 7bd855d8-463d-4ed5-93ca-5fe35145f733.xlsx\n",
      "--------------------------------------------------\n"
     ]
    }
   ],
   "source": [
    "for question in questions: \n",
    "    if question.get(\"file_name\"):\n",
    "        print(f\"Question: {question['question']}\")\n",
    "        print(f\"Associated file name: {question['file_name']}\")\n",
    "        print(\"-\" *50)\n"
   ]
  },
  {
   "cell_type": "markdown",
   "id": "a391d21a",
   "metadata": {},
   "source": [
    "Tools needed to solve these questions:\n",
    "\n",
    "- png: computer vision -> stockfish, OpenCV, PIllow\n",
    "- mp3: automatic speech recognition (ASR) -> Whisper, Spacy?\n",
    "- .py: python execution sandbox -> exec(), ast\n",
    "- mp3: same as before -> Whisper,nd regex \n",
    "- xlsx: pandas"
   ]
  },
  {
   "cell_type": "markdown",
   "id": "443729b5",
   "metadata": {},
   "source": [
    "# Questions without files attached"
   ]
  },
  {
   "cell_type": "code",
   "execution_count": 17,
   "id": "66f2b8ba",
   "metadata": {},
   "outputs": [
    {
     "name": "stdout",
     "output_type": "stream",
     "text": [
      "Question: How many studio albums were published by Mercedes Sosa between 2000 and 2009 (included)? You can use the latest 2022 version of english wikipedia.\n",
      "Associated file name: \n",
      "--------------------------------------------------\n",
      "Question: In the video https://www.youtube.com/watch?v=L1vXCYZAYYM, what is the highest number of bird species to be on camera simultaneously?\n",
      "Associated file name: \n",
      "--------------------------------------------------\n",
      "Question: .rewsna eht sa \"tfel\" drow eht fo etisoppo eht etirw ,ecnetnes siht dnatsrednu uoy fI\n",
      "Associated file name: \n",
      "--------------------------------------------------\n",
      "Question: Who nominated the only Featured Article on English Wikipedia about a dinosaur that was promoted in November 2016?\n",
      "Associated file name: \n",
      "--------------------------------------------------\n",
      "Question: Given this table defining * on the set S = {a, b, c, d, e}\n",
      "\n",
      "|*|a|b|c|d|e|\n",
      "|---|---|---|---|---|---|\n",
      "|a|a|b|c|b|d|\n",
      "|b|b|c|a|e|c|\n",
      "|c|c|a|b|b|a|\n",
      "|d|b|e|b|e|d|\n",
      "|e|d|b|a|d|c|\n",
      "\n",
      "provide the subset of S involved in any possible counter-examples that prove * is not commutative. Provide your answer as a comma separated list of the elements in the set in alphabetical order.\n",
      "Associated file name: \n",
      "--------------------------------------------------\n",
      "Question: Examine the video at https://www.youtube.com/watch?v=1htKBjuUWec.\n",
      "\n",
      "What does Teal'c say in response to the question \"Isn't that hot?\"\n",
      "Associated file name: \n",
      "--------------------------------------------------\n",
      "Question: What is the surname of the equine veterinarian mentioned in 1.E Exercises from the chemistry materials licensed by Marisa Alviar-Agnew & Henry Agnew under the CK-12 license in LibreText's Introductory Chemistry materials as compiled 08/21/2023?\n",
      "Associated file name: \n",
      "--------------------------------------------------\n",
      "Question: I'm making a grocery list for my mom, but she's a professor of botany and she's a real stickler when it comes to categorizing things. I need to add different foods to different categories on the grocery list, but if I make a mistake, she won't buy anything inserted in the wrong category. Here's the list I have so far:\n",
      "\n",
      "milk, eggs, flour, whole bean coffee, Oreos, sweet potatoes, fresh basil, plums, green beans, rice, corn, bell pepper, whole allspice, acorns, broccoli, celery, zucchini, lettuce, peanuts\n",
      "\n",
      "I need to make headings for the fruits and vegetables. Could you please create a list of just the vegetables from my list? If you could do that, then I can figure out how to categorize the rest of the list into the appropriate categories. But remember that my mom is a real stickler, so make sure that no botanical fruits end up on the vegetable list, or she won't get them when she's at the store. Please alphabetize the list of vegetables, and place each item in a comma separated list.\n",
      "Associated file name: \n",
      "--------------------------------------------------\n",
      "Question: Who did the actor who played Ray in the Polish-language version of Everybody Loves Raymond play in Magda M.? Give only the first name.\n",
      "Associated file name: \n",
      "--------------------------------------------------\n",
      "Question: How many at bats did the Yankee with the most walks in the 1977 regular season have that same season?\n",
      "Associated file name: \n",
      "--------------------------------------------------\n",
      "Question: On June 6, 2023, an article by Carolyn Collins Petersen was published in Universe Today. This article mentions a team that produced a paper about their observations, linked at the bottom of the article. Find this paper. Under what NASA award number was the work performed by R. G. Arendt supported by?\n",
      "Associated file name: \n",
      "--------------------------------------------------\n",
      "Question: Where were the Vietnamese specimens described by Kuznetzov in Nedoshivina's 2010 paper eventually deposited? Just give me the city name without abbreviations.\n",
      "Associated file name: \n",
      "--------------------------------------------------\n",
      "Question: What country had the least number of athletes at the 1928 Summer Olympics? If there's a tie for a number of athletes, return the first in alphabetical order. Give the IOC country code as your answer.\n",
      "Associated file name: \n",
      "--------------------------------------------------\n",
      "Question: Who are the pitchers with the number before and after Taishō Tamai's number as of July 2023? Give them to me in the form Pitcher Before, Pitcher After, use their last names only, in Roman characters.\n",
      "Associated file name: \n",
      "--------------------------------------------------\n",
      "Question: What is the first name of the only Malko Competition recipient from the 20th Century (after 1977) whose nationality on record is a country that no longer exists?\n",
      "Associated file name: \n",
      "--------------------------------------------------\n"
     ]
    }
   ],
   "source": [
    "for question in questions: \n",
    "    if not question.get(\"file_name\"):\n",
    "        print(f\"Question: {question['question']}\")\n",
    "        print(f\"Associated file name: {question['file_name']}\")\n",
    "        print(\"-\" *50)"
   ]
  },
  {
   "cell_type": "markdown",
   "id": "d153c5eb",
   "metadata": {},
   "source": [
    "Tools needed to solve these questions:\n",
    "\n",
    "- web search: tavily\n",
    "- wikipedia search\n",
    "- youtube counting birds and transcription\n",
    "- libretexts. There is an API that I can use? \n",
    "- pdf reader\n",
    "- calculator"
   ]
  },
  {
   "cell_type": "code",
   "execution_count": null,
   "id": "047c2f15",
   "metadata": {},
   "outputs": [],
   "source": []
  }
 ],
 "metadata": {
  "kernelspec": {
   "display_name": "agentsvenv",
   "language": "python",
   "name": "python3"
  },
  "language_info": {
   "codemirror_mode": {
    "name": "ipython",
    "version": 3
   },
   "file_extension": ".py",
   "mimetype": "text/x-python",
   "name": "python",
   "nbconvert_exporter": "python",
   "pygments_lexer": "ipython3",
   "version": "3.10.12"
  }
 },
 "nbformat": 4,
 "nbformat_minor": 5
}
