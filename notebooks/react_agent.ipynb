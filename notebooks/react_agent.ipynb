{
 "cells": [
  {
   "cell_type": "code",
   "execution_count": 35,
   "id": "5ce3e2a0",
   "metadata": {},
   "outputs": [],
   "source": [
    "from typing import TypedDict, List, Annotated, Sequence \n",
    "\n",
    "\n",
    "#classes for messages\n",
    "from langchain_core.messages import BaseMessage # Foundational class for all msg types in langgraph\n",
    "from langchain_core.messages import ToolMessage # passes tool produced by content back to LLM \n",
    "from langchain_core.messages import SystemMessage # message for providing instructions to the LLM\n",
    "\n",
    "from langchain_core.tools import tool\n",
    "\n",
    "# add_messages is a reducer function aka rule that controls how updates from nodes are combined inside the existing state\n",
    "    # appends new content to the current state. Without it, updates will replace the existing value entirely\n",
    "from langgraph.graph.message import add_messages\n",
    "from langgraph.graph import StateGraph, END\n",
    "from langgraph.prebuilt import ToolNode"
   ]
  },
  {
   "cell_type": "code",
   "execution_count": 36,
   "id": "a8431183",
   "metadata": {},
   "outputs": [],
   "source": [
    "from langchain_google_genai import ChatGoogleGenerativeAI\n",
    "\n",
    "\n",
    "from dotenv import load_dotenv\n",
    "import os\n",
    "load_dotenv()\n",
    "\n",
    "GOOGLE_API_KEY = os.getenv(\"GOOGLE_GENAI_API_TOKEN\")\n",
    "\n",
    "from langchain_tavily import TavilySearch\n",
    "\n",
    "TAVILY_KEY = os.getenv(\"AGENT_TAVILY_API_KEY\")\n",
    "\n"
   ]
  },
  {
   "cell_type": "code",
   "execution_count": 37,
   "id": "3d0cf2ab",
   "metadata": {},
   "outputs": [],
   "source": [
    "class AgentState(TypedDict):\n",
    "    messages: Annotated[Sequence[BaseMessage], add_messages]"
   ]
  },
  {
   "cell_type": "code",
   "execution_count": 38,
   "id": "41224b2d",
   "metadata": {},
   "outputs": [],
   "source": [
    "tavily_search = TavilySearch(\n",
    "    tavily_api_key=TAVILY_KEY,\n",
    "    max_results=5,\n",
    "    topic=\"general\",\n",
    "    include_answer=True,\n",
    "    # include_images=False,\n",
    "    # include_image_descriptions=False,\n",
    "    search_depth=\"basic\",\n",
    "    # time_range=\"day\",\n",
    "    # include_domains=None,\n",
    "    # exclude_domains=None\n",
    ")"
   ]
  },
  {
   "cell_type": "code",
   "execution_count": null,
   "id": "b5b29415",
   "metadata": {},
   "outputs": [],
   "source": []
  },
  {
   "cell_type": "code",
   "execution_count": 39,
   "id": "33a3b7b8",
   "metadata": {},
   "outputs": [],
   "source": [
    "@tool\n",
    "def add(a:int, b:int):\n",
    "    \"\"\"This function adds two given numbers\"\"\"\n",
    "    return a + b\n",
    "\n",
    "@tool\n",
    "def multiply(a:int, b:int):\n",
    "    \"\"\"This function multiplies two given numbers\"\"\"\n",
    "    return a + b\n",
    "\n",
    "\n",
    "    \n"
   ]
  },
  {
   "cell_type": "code",
   "execution_count": 40,
   "id": "c14d8500",
   "metadata": {},
   "outputs": [],
   "source": [
    "tools = [add, multiply, tavily_search]\n",
    "\n",
    "llm = ChatGoogleGenerativeAI(\n",
    "    model=\"gemini-2.0-flash\",  \n",
    "    temperature=0,\n",
    "    google_api_key=GOOGLE_API_KEY\n",
    ").bind_tools(tools)"
   ]
  },
  {
   "cell_type": "code",
   "execution_count": null,
   "id": "b3704e65",
   "metadata": {},
   "outputs": [],
   "source": [
    "def model_call(state:AgentState) -> AgentState:\n",
    "    system_prompt = SystemMessage(content= \n",
    "    \"\"\"You are a general AI assistant. \n",
    "        I will ask you a question. \n",
    "        Report your thoughts, and give your FINAL ANSWER directly without using any template. \n",
    "        YOUR FINAL ANSWER should be a number OR as few words as possible OR a comma separated list of numbers and/or strings. \n",
    "        If you are asked for a number, don't use comma to write your number neither use units such as $ or percent sign unless specified otherwise. \n",
    "        If you are asked for a string, don't use articles, neither abbreviations (e.g. for cities), and write the digits in plain text unless specified otherwise. \n",
    "        If you are asked for a comma separated list, apply the above rules depending of whether the element to be put in the list is a number or a string.\"\"\")\n",
    "    response = llm.invoke([system_prompt] + state[\"messages\"])\n",
    "    return{\"messages\":[response]}"
   ]
  },
  {
   "cell_type": "code",
   "execution_count": 42,
   "id": "b18bc1e7",
   "metadata": {},
   "outputs": [],
   "source": [
    "def should_continue(state:AgentState):\n",
    "    messages = state[\"messages\"]\n",
    "    last_message = messages[-1]\n",
    "    if not last_message.tool_calls:\n",
    "        return \"end\"\n",
    "    else:\n",
    "        return \"continue\""
   ]
  },
  {
   "cell_type": "code",
   "execution_count": 43,
   "id": "d07a0f50",
   "metadata": {},
   "outputs": [
    {
     "data": {
      "image/png": "[encoded data removed]",
      "text/plain": [
       "<IPython.core.display.Image object>"
      ]
     },
     "metadata": {},
     "output_type": "display_data"
    }
   ],
   "source": [
    "graph = StateGraph(AgentState)\n",
    "\n",
    "graph.add_node(\"mr_agent\", model_call)\n",
    "\n",
    "# tool node is used to attach the tools to the graph\n",
    "tool_node = ToolNode(tools=tools)\n",
    "graph.add_node(\"tools\", tool_node)\n",
    "\n",
    "graph.set_entry_point(\"mr_agent\")\n",
    "\n",
    "graph.add_conditional_edges(\n",
    "    \"mr_agent\", \n",
    "    should_continue,\n",
    "\n",
    "    {\n",
    "        \"continue\":\"tools\",\n",
    "        \"end\":END,\n",
    "    }\n",
    ")\n",
    "\n",
    "graph.add_edge(\"tools\", \"mr_agent\")\n",
    "\n",
    "app = graph.compile()\n",
    "\n",
    "from IPython.display import Image, display\n",
    "display(Image(app.get_graph().draw_mermaid_png()))"
   ]
  },
  {
   "cell_type": "code",
   "execution_count": 44,
   "id": "3070d6ed",
   "metadata": {},
   "outputs": [],
   "source": [
    "inputs = {\"messages\": [(\"user\", \"What is the first name of the only Malko Competition recipient from the 20th Century (after 1977) whose nationality on record is a country that no longer exists?\")]}"
   ]
  },
  {
   "cell_type": "code",
   "execution_count": 45,
   "id": "26e573f9",
   "metadata": {},
   "outputs": [
    {
     "name": "stdout",
     "output_type": "stream",
     "text": [
      "================================\u001b[1m Human Message \u001b[0m=================================\n",
      "\n",
      "What is the first name of the only Malko Competition recipient from the 20th Century (after 1977) whose nationality on record is a country that no longer exists?\n",
      "==================================\u001b[1m Ai Message \u001b[0m==================================\n",
      "Tool Calls:\n",
      "  tavily_search (78d47ed1-1d96-48d8-8ef4-3a31ebfbcea2)\n",
      " Call ID: 78d47ed1-1d96-48d8-8ef4-3a31ebfbcea2\n",
      "  Args:\n",
      "    search_depth: advanced\n",
      "    query: Malko Competition recipients 20th century nationality country no longer exists\n",
      "=================================\u001b[1m Tool Message \u001b[0m=================================\n",
      "Name: tavily_search\n",
      "\n",
      "{\"query\": \"Malko Competition recipients 20th century nationality country no longer exists\", \"follow_up_questions\": null, \"answer\": \"The only Malko Competition recipient from the 20th century with a nationality from a country that no longer exists is Claus Peter Flor, from Germany.\", \"images\": [], \"results\": [{\"url\": \"https://huggingface.co/datasets/ninja-x/deepresearch/viewer\", \"title\": \"ninja-x/deepresearch · Datasets at Hugging Face\", \"content\": \"Saint Petersburg\\n\\n\\n\\n | \\n\\nNone\\n\\n\\n\\n |\\n| \\n\\nWhat country had the least number of athletes at the 1928 Summer Olympics? If there's a tie for a number of athletes, return the first in alphabetical order. Give the IOC country code as your answer.\\n\\n\\n\\n | \\n\\nGAIA\\n\\n\\n\\n | \\n\\nCUB\\n\\n\\n\\n | \\n\\nNone\\n\\n\\n\\n |\\n| \\n\\nWhat is the first name of the only Malko Competition recipient from the 20th Century (after 1977) whose nationality on record is a country that no longer exists?\\n\\n\\n\\n | \\n\\nGAIA\\n\\n\\n\\n | \\n\\nClaus\\n\\n\\n\\n | \\n\\nNone\\n\\n\\n\\n |\\n|\", \"score\": 0.7576693, \"raw_content\": null}, {\"url\": \"https://huggingface.co/spaces/mark-hug/Final_Assignment_Template/blob/main/llama_index_agent.py\", \"title\": \"llama_index_agent.py · mark-hug/Final_Assignment_Template at ...\", \"content\": \"|  | # \\\"What is the first name of the only Malko Competition recipient from the 20th Century (after 1977) whose nationality on record is a country that no longer exists?\\\" |\\n|  | # \\\"Who are the pitchers with the number before and after Taishō Tamai's number as of July 2023? Give them to me in the form Pitcher Before, Pitcher After, use their last names only, in Roman characters.\\\", |\", \"score\": 0.67885995, \"raw_content\": null}, {\"url\": \"https://en.wikipedia.org/wiki/Malko_Competition\", \"title\": \"Malko Competition - Wikipedia\", \"content\": \"The **Malko Competition** is an international competition for young [conductors](https://en.wikipedia.org/wiki/Conducting \\\"Conducting\\\"). It is held every three years by the [Danish Radio Symphony Orchestra](https://en.wikipedia.org/wiki/Danish_Radio_Symphony_Orchestra \\\"Danish Radio Symphony Orchestra\\\"), to commemorate its founding conductor, [Nicolai Malko](https://en.wikipedia.org/wiki/Nicolai_Malko \\\"Nicolai Malko\\\").[[1]](https://en.wikipedia.org/wiki/Malko_Competition#cite_note-1) [...] | Year | Recipient | Lifetime | Nationality | Notes |\\n| --- | --- | --- | --- | --- |\\n| 1965 | [Ralf Weikert](https://en.wikipedia.org/wiki/Ralf_Weikert \\\"Ralf Weikert\\\") | b. 1940 | ![Image 4](https://upload.wikimedia.org/wikipedia/commons/thumb/4/41/Flag_of_Austria.svg/40px-Flag_of_Austria.svg.png)[Austria](https://en.wikipedia.org/wiki/Austria \\\"Austria\\\") |  | [...] | 2015 | [Tung-Chieh Chuang](https://en.wikipedia.org/w/index.php?title=Tung-Chieh_Chuang&action=edit&redlink=1 \\\"Tung-Chieh Chuang (page does not exist)\\\") | b. 1982 | ![Image 19](https://upload.wikimedia.org/wikipedia/commons/thumb/7/72/Flag_of_the_Republic_of_China.svg/40px-Flag_of_the_Republic_of_China.svg.png)[Taiwan](https://en.wikipedia.org/wiki/Taiwan \\\"Taiwan\\\") | [[11]](https://en.wikipedia.org/wiki/Malko_Competition#cite_note-12) |\", \"score\": 0.64746445, \"raw_content\": null}, {\"url\": \"https://malkocompetition.dk/winners/all\", \"title\": \"All Winners - Malko Competition\", \"content\": \"Kazufumi Yamashita ------------------ Japan 1983 Claus Peter Flor ---------------- Germany 1980 Maximiano Valdes ---------------- Chile 1977 Philip Greenberg ---------------- United States 1974 Gotthard Lienicke -----------------1971 Winston Dan Vogel ----------------- United States 1968 Avi Ostrowsky ------------- Israel 1965 Ralf Weikert ------------ Austria [...] 2024 Samuel Seungwon Lee ------------------- South Korea 2021 Dmitry Matvienko ---------------- Belarus 2018 Ryan Bancroft ------------- United States 2015 Tung-Chieh Chuang ----------------- Taiwan 2012 Rafael Payare ------------- Venezuela 2009 Joshua Weilerstein ------------------ United States 2005 Mei-Ann Chen ------------ United States 1998 Seikyo Kim ---------- Japan 1995 Jan Wagner ---------- Venezuela 1992 Jin Wang -------- Austria 1989 Fabio Mechetti -------------- Brasil 1986 [...] *   [Contact](javascript:void(0))\\nMALKO COMPETITION\\n\\nFOR YOUNG CONDUCTORS\\n\\n Danish National Symphony Orchestra\\n\\n Att.: Marie Rørbech\\n\\n Emil Holms Kanal 20, 5-3\\n\\n 0999 København C\\n\\n Denmark\\n\\n mrrb@dr.dk\\n\\n Project Manager: Marie Rørbech\\n\\n*   [Newsletter](javascript:void(0))Subscribe to the Malko Competition newsletter!         \\n*   [Facebook](https://www.facebook.com/malkocompetition/)\\n\\n[](https://drkoncerthuset.dk/dr-symfoni-orkestret/danish-national-symphony-orchestra/)\", \"score\": 0.5518883, \"raw_content\": null}, {\"url\": \"https://malkocompetition.dk/article/2021/and-then-there-were-twelve\", \"title\": \"And then there were twelve… | Malko Competition\", \"content\": \"![Image 1](https://malkocompetition.dk/sites/default/files/styles/large_image/public/images/articles/197513536_4181374068587366_7584352866795875814_n.jpg?itok=BcQhdYlq)\\n\\nAnd then there were twelve…\\n===========================\\n\\n__24 have become 12, and mighty Russia – the land of conductors – is out of the Malko competition__\\n\\nThe jury has made its first decision of Malko 2021. With a heavy heart, we say goodbye to twelve of our 24 contestants. [...] There are always surprises when the jury emerges with a verdict. Perhaps most surprising of all, in this first round, is that the Russians have been eliminated entirely. Statistically, that was the strongest country coming into the competition.\\n\\nBoth the British conductors remain with us, as do both the Scandinavians and both the Austrians. As for gender, we now have a perfectly gender-balanced competition with six each male and female. [...] [Article ### And then there were twelve… __24 have become 12, and mighty Russia – the land of conductors – is out of the Malko competition__ ![Image 5](https://malkocompetition.dk/sites/default/files/images/articles/197513536_4181374068587366_7584352866795875814_n.jpg)](https://malkocompetition.dk/article/2021/and-then-there-were-twelve)\", \"score\": 0.4233394, \"raw_content\": null}], \"response_time\": 2.56}\n",
      "==================================\u001b[1m Ai Message \u001b[0m==================================\n",
      "\n",
      "Claus\n"
     ]
    }
   ],
   "source": [
    "def print_stream(stream):\n",
    "    for step in stream:\n",
    "        message = step[\"messages\"][-1]\n",
    "        if isinstance(message,tuple):\n",
    "            print(message)\n",
    "        else:\n",
    "            message.pretty_print()\n",
    "\n",
    "print_stream(app.stream(inputs, stream_mode=\"values\"))"
   ]
  },
  {
   "cell_type": "code",
   "execution_count": null,
   "id": "7bb40d66",
   "metadata": {},
   "outputs": [],
   "source": []
  }
 ],
 "metadata": {
  "kernelspec": {
   "display_name": "agentsvenv",
   "language": "python",
   "name": "python3"
  },
  "language_info": {
   "codemirror_mode": {
    "name": "ipython",
    "version": 3
   },
   "file_extension": ".py",
   "mimetype": "text/x-python",
   "name": "python",
   "nbconvert_exporter": "python",
   "pygments_lexer": "ipython3",
   "version": "3.10.12"
  }
 },
 "nbformat": 4,
 "nbformat_minor": 5
}
