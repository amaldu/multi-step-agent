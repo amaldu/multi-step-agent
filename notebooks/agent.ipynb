{
 "cells": [
  {
   "cell_type": "markdown",
   "id": "472f6448",
   "metadata": {},
   "source": [
    "Notebook to use HuggingFace chatbots via API using langchain"
   ]
  },
  {
   "cell_type": "code",
   "execution_count": 39,
   "id": "90264301",
   "metadata": {},
   "outputs": [],
   "source": [
    "\n",
    "\n",
    "from dotenv import load_dotenv\n",
    "load_dotenv()\n",
    "import os\n",
    "\n",
    "token = os.getenv(\"HF_ACCESS_INFERENCE_TOKEN\")\n"
   ]
  },
  {
   "cell_type": "code",
   "execution_count": 40,
   "id": "1ec96133",
   "metadata": {},
   "outputs": [],
   "source": [
    "# import libraries \n",
    "from langchain_huggingface import HuggingFaceEndpoint, ChatHuggingFace"
   ]
  },
  {
   "cell_type": "code",
   "execution_count": 41,
   "id": "bb39136d",
   "metadata": {},
   "outputs": [],
   "source": [
    "# initialize the LLM\n",
    "\n",
    "llm = HuggingFaceEndpoint(\n",
    "    repo_id=\"HuggingFaceH4/zephyr-7b-beta\",  \n",
    "    temperature=0.001,\n",
    "    max_new_tokens=100\n",
    ")\n",
    "\n",
    "\n",
    "\n"
   ]
  },
  {
   "cell_type": "code",
   "execution_count": 42,
   "id": "5e83c694",
   "metadata": {},
   "outputs": [],
   "source": [
    "from typing import TypedDict, List, Dict, Any, Optional, Annotated\n",
    "from langchain_core.messages import HumanMessage, AIMessage, AnyMessage\n",
    "\n",
    "# Define the state\n",
    "\n",
    "class AgentState(TypedDict):\n",
    "    question: Optional[str]\n",
    "    last_ai_message: Optional[str]\n",
    "    final_answer: Optional[str]\n",
    "    messages: Annotated[list[Any], Any]"
   ]
  },
  {
   "cell_type": "code",
   "execution_count": 43,
   "id": "686e0d3e",
   "metadata": {},
   "outputs": [],
   "source": [
    "from langchain_tavily import TavilySearch\n",
    "\n",
    "TAVILY_KEY = os.getenv(\"AGENT_TAVILY_API_KEY\")\n",
    "\n",
    "tavily_search = TavilySearch(\n",
    "    tavily_api_key=TAVILY_KEY,\n",
    "    max_results=2,\n",
    "    topic=\"general\",\n",
    "    include_answer=True,\n",
    "    # include_images=False,\n",
    "    # include_image_descriptions=False,\n",
    "    search_depth=\"basic\",\n",
    "    # time_range=\"day\",\n",
    "    # include_domains=None,\n",
    "    # exclude_domains=None\n",
    ")"
   ]
  },
  {
   "cell_type": "code",
   "execution_count": 44,
   "id": "717cce77",
   "metadata": {},
   "outputs": [],
   "source": [
    "def run_agent_for_question(question_dict: dict) -> AgentState:\n",
    "    state: AgentState = {\n",
    "        \"question\": question_dict[\"question\"],\n",
    "        \"last_ai_message\": None,\n",
    "        \"final_answer\": None,\n",
    "        \"messages\": []\n",
    "    }\n",
    "\n",
    "    # Paso 1: Guardar el mensaje del usuario\n",
    "    user_msg = HumanMessage(content=state[\"question\"])\n",
    "    state[\"messages\"].append(user_msg)\n",
    "\n",
    "    # Paso 2: Hacer búsqueda con Tavily\n",
    "    results = tavily_search.invoke({\"query\": state[\"question\"]})\n",
    "\n",
    "    # Simula razonamiento paso a paso con el agente\n",
    "    answer_parts = []\n",
    "    for i, result in enumerate(results.get(\"results\", [])):\n",
    "        content = result.get(\"content\", \"\")\n",
    "        ai_msg = AIMessage(content=f\"Step {i+1}: {content}\")\n",
    "        state[\"messages\"].append(ai_msg)\n",
    "        answer_parts.append(content)\n",
    "\n",
    "        # Puedes decidir cuándo parar, por ahora asumimos que con 2 resultados basta\n",
    "        if len(answer_parts) >= 2:\n",
    "            break\n",
    "\n",
    "    # Paso final: consolidar respuesta\n",
    "    final = \" \".join(answer_parts)\n",
    "    state[\"final_answer\"] = final\n",
    "    state[\"last_ai_message\"] = final\n",
    "    state[\"messages\"].append(AIMessage(content=f\"Final answer: {final}\"))\n",
    "\n",
    "    return state"
   ]
  },
  {
   "cell_type": "code",
   "execution_count": 45,
   "id": "0e776b3a",
   "metadata": {},
   "outputs": [
    {
     "name": "stdout",
     "output_type": "stream",
     "text": [
      "== Question: What is LangChain used for?\n",
      "== Final Answer: Examples and use cases for LangChain. The LLM-based applications LangChain is capable of building can be applied to multiple advanced use cases within various industries and vertical markets, such as the following: Customer service chatbots. LangChain enables advanced chat applications to handle complex questions and user transactions. Build a simple LLM application with chat models and prompt templates How to migrate from legacy LangChain agents to LangGraph How to use chat models to call tools How to pass tool outputs to chat models langchain: Chains, agents, and retrieval strategies that make up an application's cognitive architecture. However, these guides will help you quickly accomplish common tasks using chat models, vector stores, and other common LangChain components. LangChain is part of a rich ecosystem of tools that integrate with our framework and build on top of it. If you're looking to get up and running quickly with chat models, vector stores, or other LangChain components from a specific provider, check out our growing list of integrations.\n",
      "== Messages:\n",
      "  [human] What is LangChain used for?\n",
      "  [ai] Step 1: Examples and use cases for LangChain. The LLM-based applications LangChain is capable of building can be applied to multiple advanced use cases within various industries and vertical markets, such as the following: Customer service chatbots. LangChain enables advanced chat applications to handle complex questions and user transactions.\n",
      "  [ai] Step 2: Build a simple LLM application with chat models and prompt templates How to migrate from legacy LangChain agents to LangGraph How to use chat models to call tools How to pass tool outputs to chat models langchain: Chains, agents, and retrieval strategies that make up an application's cognitive architecture. However, these guides will help you quickly accomplish common tasks using chat models, vector stores, and other common LangChain components. LangChain is part of a rich ecosystem of tools that integrate with our framework and build on top of it. If you're looking to get up and running quickly with chat models, vector stores, or other LangChain components from a specific provider, check out our growing list of integrations.\n",
      "  [ai] Final answer: Examples and use cases for LangChain. The LLM-based applications LangChain is capable of building can be applied to multiple advanced use cases within various industries and vertical markets, such as the following: Customer service chatbots. LangChain enables advanced chat applications to handle complex questions and user transactions. Build a simple LLM application with chat models and prompt templates How to migrate from legacy LangChain agents to LangGraph How to use chat models to call tools How to pass tool outputs to chat models langchain: Chains, agents, and retrieval strategies that make up an application's cognitive architecture. However, these guides will help you quickly accomplish common tasks using chat models, vector stores, and other common LangChain components. LangChain is part of a rich ecosystem of tools that integrate with our framework and build on top of it. If you're looking to get up and running quickly with chat models, vector stores, or other LangChain components from a specific provider, check out our growing list of integrations.\n",
      "\n",
      "== Question: Who created Python?\n",
      "== Final Answer: History of Python | GeeksforGeeks Data Structures & Algorithms in Python Python Tutorial Practice Python Data Science With Python DSA with Python Python is a widely used general-purpose, high-level programming language. It was initially designed by *Guido van Rossum in 1991* and developed by Python Software Foundation. Python python History of Python Python is a widely used general-purpose, high-level programming language. It was initially designed by Guido van Rossum in 1991 and developed by Python Software Foundation. Python Version History Python, one of the most popular programming languages today, has a rich history of development and evolution. Let's see some limitations of Python programming language. Python Data Science With Python Python Tutorial Python While working at the Centrum Wiskunde & Informatica (CWI), Van Rossum wrote and contributed a glob() routine to BSDUnix in 1986[13][14] and helped develop the ABC programming language. From 2005 to December 2012, Van Rossum worked at Google, where he spent half of his time developing the Python language. On 12 July 2018, Van Rossum announced that he would be stepping down from the position of benevolent dictator for life of the Python programming language.[32] \"2018 Museum Fellow Guido van Rossum, Python Creator & Benevolent Dictator for Life\". ^\"2018 Museum Fellow Guido van Rossum, Python Creator & Benevolent Dictator for Life - Computer History Museum\". \"Dropbox Hires Away Google's Guido van Rossum, The Father Of Python\". \"Python creator Guido van Rossum joins Microsoft\".\n",
      "== Messages:\n",
      "  [human] Who created Python?\n",
      "  [ai] Step 1: History of Python | GeeksforGeeks Data Structures & Algorithms in Python Python Tutorial Practice Python Data Science With Python DSA with Python Python is a widely used general-purpose, high-level programming language. It was initially designed by *Guido van Rossum in 1991* and developed by Python Software Foundation. Python python History of Python Python is a widely used general-purpose, high-level programming language. It was initially designed by Guido van Rossum in 1991 and developed by Python Software Foundation. Python Version History Python, one of the most popular programming languages today, has a rich history of development and evolution. Let's see some limitations of Python programming language. Python Data Science With Python Python Tutorial Python\n",
      "  [ai] Step 2: While working at the Centrum Wiskunde & Informatica (CWI), Van Rossum wrote and contributed a glob() routine to BSDUnix in 1986[13][14] and helped develop the ABC programming language. From 2005 to December 2012, Van Rossum worked at Google, where he spent half of his time developing the Python language. On 12 July 2018, Van Rossum announced that he would be stepping down from the position of benevolent dictator for life of the Python programming language.[32] \"2018 Museum Fellow Guido van Rossum, Python Creator & Benevolent Dictator for Life\". ^\"2018 Museum Fellow Guido van Rossum, Python Creator & Benevolent Dictator for Life - Computer History Museum\". \"Dropbox Hires Away Google's Guido van Rossum, The Father Of Python\". \"Python creator Guido van Rossum joins Microsoft\".\n",
      "  [ai] Final answer: History of Python | GeeksforGeeks Data Structures & Algorithms in Python Python Tutorial Practice Python Data Science With Python DSA with Python Python is a widely used general-purpose, high-level programming language. It was initially designed by *Guido van Rossum in 1991* and developed by Python Software Foundation. Python python History of Python Python is a widely used general-purpose, high-level programming language. It was initially designed by Guido van Rossum in 1991 and developed by Python Software Foundation. Python Version History Python, one of the most popular programming languages today, has a rich history of development and evolution. Let's see some limitations of Python programming language. Python Data Science With Python Python Tutorial Python While working at the Centrum Wiskunde & Informatica (CWI), Van Rossum wrote and contributed a glob() routine to BSDUnix in 1986[13][14] and helped develop the ABC programming language. From 2005 to December 2012, Van Rossum worked at Google, where he spent half of his time developing the Python language. On 12 July 2018, Van Rossum announced that he would be stepping down from the position of benevolent dictator for life of the Python programming language.[32] \"2018 Museum Fellow Guido van Rossum, Python Creator & Benevolent Dictator for Life\". ^\"2018 Museum Fellow Guido van Rossum, Python Creator & Benevolent Dictator for Life - Computer History Museum\". \"Dropbox Hires Away Google's Guido van Rossum, The Father Of Python\". \"Python creator Guido van Rossum joins Microsoft\".\n",
      "\n"
     ]
    }
   ],
   "source": [
    "questions = [\n",
    "    {\"question\": \"What is LangChain used for?\"},\n",
    "    {\"question\": \"Who created Python?\"}\n",
    "]\n",
    "\n",
    "for q in questions:\n",
    "    result = run_agent_for_question(q)\n",
    "    print(\"== Question:\", result[\"question\"])\n",
    "    print(\"== Final Answer:\", result[\"final_answer\"])\n",
    "    print(\"== Messages:\")\n",
    "    for msg in result[\"messages\"]:\n",
    "        print(f\"  [{msg.type}] {msg.content}\")\n",
    "    print()\n"
   ]
  },
  {
   "cell_type": "code",
   "execution_count": null,
   "id": "dd17a620",
   "metadata": {},
   "outputs": [],
   "source": []
  }
 ],
 "metadata": {
  "kernelspec": {
   "display_name": "agentsvenv",
   "language": "python",
   "name": "python3"
  },
  "language_info": {
   "codemirror_mode": {
    "name": "ipython",
    "version": 3
   },
   "file_extension": ".py",
   "mimetype": "text/x-python",
   "name": "python",
   "nbconvert_exporter": "python",
   "pygments_lexer": "ipython3",
   "version": "3.10.12"
  }
 },
 "nbformat": 4,
 "nbformat_minor": 5
}
